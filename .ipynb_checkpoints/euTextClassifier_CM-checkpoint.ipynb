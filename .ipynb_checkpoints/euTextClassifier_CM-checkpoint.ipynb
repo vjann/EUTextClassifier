{
 "cells": [
  {
   "cell_type": "code",
   "execution_count": 469,
   "metadata": {},
   "outputs": [],
   "source": [
    "from __future__ import print_function\n",
    "\n",
    "import pandas as pd \n",
    "import glob\n",
    "import numpy as np\n",
    "from sklearn.feature_extraction.text import TfidfVectorizer\n",
    "import keras\n",
    "from keras.layers import LSTM"
   ]
  },
  {
   "cell_type": "code",
   "execution_count": 470,
   "metadata": {},
   "outputs": [],
   "source": [
    "vectorizer = TfidfVectorizer()"
   ]
  },
  {
   "cell_type": "code",
   "execution_count": 471,
   "metadata": {},
   "outputs": [],
   "source": [
    "L = []\n",
    "csv_num = 0\n",
    "for csv in glob.glob('*.csv'):\n",
    "#     if (csv != \"coder_1.csv\"):\n",
    "    df1 = pd.read_csv(csv, encoding='latin-1')\n",
    "    df1['File Number'] = csv\n",
    "    L.append(df1)\n",
    "    csv_num += 1\n",
    "    \n",
    "df = pd.concat(L, axis = 0, sort=False)\n",
    "df = df.loc[:, ~df.columns.str.contains('^Unnamed')]\n",
    "df.columns.str.rstrip()\n",
    "df.columns = df.columns.str.replace(' ', '_')"
   ]
  },
  {
   "cell_type": "code",
   "execution_count": 472,
   "metadata": {
    "scrolled": true
   },
   "outputs": [
    {
     "data": {
      "text/plain": [
       "Coder_Number               10\n",
       "Question_ID              3508\n",
       "Question_Link            3508\n",
       "Question_Text            3940\n",
       "File_Number                17\n",
       "Euroskepticism_Score        3\n",
       "Euroskepticism_Reason     578\n",
       "Nationalism_Score           3\n",
       "Nationalism_Reason        279\n",
       "Populism_Score              3\n",
       "Populism_Reason           273\n",
       "dtype: int64"
      ]
     },
     "execution_count": 472,
     "metadata": {},
     "output_type": "execute_result"
    }
   ],
   "source": [
    "df.nunique()"
   ]
  },
  {
   "cell_type": "markdown",
   "metadata": {},
   "source": [
    "# Data Cleaning"
   ]
  },
  {
   "cell_type": "code",
   "execution_count": 473,
   "metadata": {},
   "outputs": [
    {
     "data": {
      "text/plain": [
       "array([nan, 0. , 0.5, 1. ])"
      ]
     },
     "execution_count": 473,
     "metadata": {},
     "output_type": "execute_result"
    }
   ],
   "source": [
    "df['Euroskepticism_Score'].unique()"
   ]
  },
  {
   "cell_type": "code",
   "execution_count": 474,
   "metadata": {},
   "outputs": [
    {
     "data": {
      "text/plain": [
       "array([nan, 0. , 0.5, 1. ])"
      ]
     },
     "execution_count": 474,
     "metadata": {},
     "output_type": "execute_result"
    }
   ],
   "source": [
    "df['Nationalism_Score'].unique()"
   ]
  },
  {
   "cell_type": "code",
   "execution_count": 475,
   "metadata": {},
   "outputs": [
    {
     "data": {
      "text/plain": [
       "array([nan, 0. , 1. , 0.5])"
      ]
     },
     "execution_count": 475,
     "metadata": {},
     "output_type": "execute_result"
    }
   ],
   "source": [
    "df['Populism_Score'].unique()"
   ]
  },
  {
   "cell_type": "code",
   "execution_count": 477,
   "metadata": {},
   "outputs": [
    {
     "data": {
      "text/plain": [
       "array(['coderp2_0.csv', 'coderp2_1.csv', 'coderp2_2.csv', 'coderp2_3.csv',\n",
       "       'coderp2_8.csv', 'coderp2_9.csv'], dtype=object)"
      ]
     },
     "execution_count": 477,
     "metadata": {},
     "output_type": "execute_result"
    }
   ],
   "source": [
    "df.loc[~df['Nationalism_Score'].isin([0. , 0.5, 1. ])]['File_Number'].unique()\n",
    "df.loc[df['Euroskepticism_Score'].isnull()]['File_Number'].unique()"
   ]
  },
  {
   "cell_type": "code",
   "execution_count": 479,
   "metadata": {},
   "outputs": [],
   "source": [
    "df = df.dropna(subset=['Euroskepticism_Score', 'Populism_Score', 'Nationalism_Score'])\n",
    "df['Euroskepticism_Score'] = df['Euroskepticism_Score'].astype('float')\n",
    "df['Nationalism_Score'] = df['Nationalism_Score'].astype('float')\n",
    "df['Populism_Score'] = df['Populism_Score'].astype('float')\n",
    "df['Question_Text'] = df['Question_Text'].astype('str')"
   ]
  },
  {
   "cell_type": "code",
   "execution_count": 480,
   "metadata": {},
   "outputs": [
    {
     "data": {
      "text/plain": [
       "Coder_Number               10\n",
       "Question_ID              2861\n",
       "Question_Link            2861\n",
       "Question_Text            3267\n",
       "File_Number                14\n",
       "Euroskepticism_Score        3\n",
       "Euroskepticism_Reason     578\n",
       "Nationalism_Score           3\n",
       "Nationalism_Reason        279\n",
       "Populism_Score              3\n",
       "Populism_Reason           273\n",
       "dtype: int64"
      ]
     },
     "execution_count": 480,
     "metadata": {},
     "output_type": "execute_result"
    }
   ],
   "source": [
    "df.nunique()"
   ]
  },
  {
   "cell_type": "code",
   "execution_count": 481,
   "metadata": {},
   "outputs": [],
   "source": [
    "max_of_scores = dict()\n",
    "\n",
    "for question_id in df['Question_ID'].unique():\n",
    "    a = np.max(df[(df['Question_ID'] == question_id)]['Euroskepticism_Score'].fillna(0))\n",
    "    b = np.max(df[(df['Question_ID'] == question_id)]['Nationalism_Score'].fillna(0))\n",
    "    c = np.max(df[(df['Question_ID'] == question_id)]['Populism_Score'].fillna(0))\n",
    "    T = df[(df['Question_ID'] == question_id)]['Question_Text']\n",
    "#     file_num = df[(df['Question_ID'] == question_id)]['File Number']\n",
    "    max_of_scores[question_id] = [T[T.index[0]], question_id, a, b, c]\n",
    "\n",
    "scores = pd.DataFrame.from_dict(max_of_scores, orient = 'index')\n",
    "scores = scores.rename(columns = {0: 'Question_Text', 1: 'Question_ID', 2: 'Euroskepticism_Score', \n",
    "                                        3: 'Nationalism_Score', 4: 'Populism_Score'})\n",
    "scores.index = range(len(scores))\n",
    "\n",
    "scores['Question_Text'] = scores['Question_Text'].apply(lambda x: str(x))\n",
    "scores['Question_ID'] = scores['Question_ID'].apply(lambda x: str(x))\n",
    "# scores['Question_ID'] = scores['File Number'].apply(lambda x: str(x))\n",
    "for score_type in ['Euroskepticism_Score','Nationalism_Score', 'Populism_Score']:\n",
    "    scores[score_type] = scores[score_type].astype('float')\n",
    "    scores[score_type] = scores[score_type].apply(np.ceil)"
   ]
  },
  {
   "cell_type": "code",
   "execution_count": 482,
   "metadata": {},
   "outputs": [
    {
     "data": {
      "text/html": [
       "<div>\n",
       "<style scoped>\n",
       "    .dataframe tbody tr th:only-of-type {\n",
       "        vertical-align: middle;\n",
       "    }\n",
       "\n",
       "    .dataframe tbody tr th {\n",
       "        vertical-align: top;\n",
       "    }\n",
       "\n",
       "    .dataframe thead th {\n",
       "        text-align: right;\n",
       "    }\n",
       "</style>\n",
       "<table border=\"1\" class=\"dataframe\">\n",
       "  <thead>\n",
       "    <tr style=\"text-align: right;\">\n",
       "      <th></th>\n",
       "      <th>Question_Text</th>\n",
       "      <th>Question_ID</th>\n",
       "      <th>Euroskepticism_Score</th>\n",
       "      <th>Nationalism_Score</th>\n",
       "      <th>Populism_Score</th>\n",
       "    </tr>\n",
       "  </thead>\n",
       "  <tbody>\n",
       "    <tr>\n",
       "      <th>0</th>\n",
       "      <td>Further to the answer it gave to my Question E...</td>\n",
       "      <td>E-013527-13</td>\n",
       "      <td>0.0</td>\n",
       "      <td>0.0</td>\n",
       "      <td>0.0</td>\n",
       "    </tr>\n",
       "    <tr>\n",
       "      <th>1</th>\n",
       "      <td>In Italy as in many other Member States legal ...</td>\n",
       "      <td>E-001570-13</td>\n",
       "      <td>1.0</td>\n",
       "      <td>0.0</td>\n",
       "      <td>1.0</td>\n",
       "    </tr>\n",
       "    <tr>\n",
       "      <th>2</th>\n",
       "      <td>On 1 September 2013 Iraqi forces carried out a...</td>\n",
       "      <td>P-010965-13</td>\n",
       "      <td>0.0</td>\n",
       "      <td>0.0</td>\n",
       "      <td>0.0</td>\n",
       "    </tr>\n",
       "    <tr>\n",
       "      <th>3</th>\n",
       "      <td>In the Work Programme of the Agency for the Co...</td>\n",
       "      <td>E-011939-13</td>\n",
       "      <td>0.0</td>\n",
       "      <td>0.0</td>\n",
       "      <td>0.0</td>\n",
       "    </tr>\n",
       "    <tr>\n",
       "      <th>4</th>\n",
       "      <td>Identification marking on foods which are avai...</td>\n",
       "      <td>E-003034-13</td>\n",
       "      <td>0.0</td>\n",
       "      <td>0.0</td>\n",
       "      <td>0.0</td>\n",
       "    </tr>\n",
       "    <tr>\n",
       "      <th>5</th>\n",
       "      <td>According to estimates in Germany alone every ...</td>\n",
       "      <td>E-002177-13</td>\n",
       "      <td>0.0</td>\n",
       "      <td>0.0</td>\n",
       "      <td>0.0</td>\n",
       "    </tr>\n",
       "    <tr>\n",
       "      <th>6</th>\n",
       "      <td>In the context of the review of the EU policy ...</td>\n",
       "      <td>E-003105-13</td>\n",
       "      <td>1.0</td>\n",
       "      <td>0.0</td>\n",
       "      <td>0.0</td>\n",
       "    </tr>\n",
       "    <tr>\n",
       "      <th>7</th>\n",
       "      <td>Directive 2004/82/EC is intended to improve bo...</td>\n",
       "      <td>E-001109-13</td>\n",
       "      <td>0.0</td>\n",
       "      <td>0.0</td>\n",
       "      <td>0.0</td>\n",
       "    </tr>\n",
       "    <tr>\n",
       "      <th>8</th>\n",
       "      <td>Directive 2004/82/EC is intended to improve bo...</td>\n",
       "      <td>E-001108-13</td>\n",
       "      <td>0.0</td>\n",
       "      <td>0.0</td>\n",
       "      <td>0.0</td>\n",
       "    </tr>\n",
       "    <tr>\n",
       "      <th>9</th>\n",
       "      <td>On 27 February 2013 Mr Kallas on behalf of the...</td>\n",
       "      <td>E-005785-13</td>\n",
       "      <td>1.0</td>\n",
       "      <td>0.0</td>\n",
       "      <td>0.0</td>\n",
       "    </tr>\n",
       "    <tr>\n",
       "      <th>10</th>\n",
       "      <td>The Commissioner for Home Affairs has apparent...</td>\n",
       "      <td>P-009654-13</td>\n",
       "      <td>0.0</td>\n",
       "      <td>0.0</td>\n",
       "      <td>0.0</td>\n",
       "    </tr>\n",
       "    <tr>\n",
       "      <th>11</th>\n",
       "      <td>On 1 January 2014 Commission Regulation EC No ...</td>\n",
       "      <td>P-007405-13</td>\n",
       "      <td>1.0</td>\n",
       "      <td>0.0</td>\n",
       "      <td>1.0</td>\n",
       "    </tr>\n",
       "    <tr>\n",
       "      <th>12</th>\n",
       "      <td>The rights of every EU citizen include the fre...</td>\n",
       "      <td>E-001080-13</td>\n",
       "      <td>0.0</td>\n",
       "      <td>0.0</td>\n",
       "      <td>0.0</td>\n",
       "    </tr>\n",
       "    <tr>\n",
       "      <th>13</th>\n",
       "      <td>In divorce cases in Germany maintenance is dec...</td>\n",
       "      <td>E-003342-13</td>\n",
       "      <td>1.0</td>\n",
       "      <td>0.0</td>\n",
       "      <td>0.0</td>\n",
       "    </tr>\n",
       "    <tr>\n",
       "      <th>14</th>\n",
       "      <td>The directive on the application of patients r...</td>\n",
       "      <td>E-009518-13</td>\n",
       "      <td>0.0</td>\n",
       "      <td>0.0</td>\n",
       "      <td>0.0</td>\n",
       "    </tr>\n",
       "    <tr>\n",
       "      <th>15</th>\n",
       "      <td>It has emerged that the negotiations held betw...</td>\n",
       "      <td>E-003113-14</td>\n",
       "      <td>0.0</td>\n",
       "      <td>0.0</td>\n",
       "      <td>0.0</td>\n",
       "    </tr>\n",
       "    <tr>\n",
       "      <th>16</th>\n",
       "      <td>By virtue of circular 2013/151663 concerning i...</td>\n",
       "      <td>E-001705-14</td>\n",
       "      <td>0.0</td>\n",
       "      <td>0.0</td>\n",
       "      <td>0.0</td>\n",
       "    </tr>\n",
       "    <tr>\n",
       "      <th>17</th>\n",
       "      <td>The Transatlantic Trade and Investment Partner...</td>\n",
       "      <td>E-004788-14</td>\n",
       "      <td>0.0</td>\n",
       "      <td>0.0</td>\n",
       "      <td>0.0</td>\n",
       "    </tr>\n",
       "    <tr>\n",
       "      <th>18</th>\n",
       "      <td>The Pescara Marina one of the largest of its k...</td>\n",
       "      <td>E-008226-14</td>\n",
       "      <td>1.0</td>\n",
       "      <td>1.0</td>\n",
       "      <td>0.0</td>\n",
       "    </tr>\n",
       "    <tr>\n",
       "      <th>19</th>\n",
       "      <td>Since 1 January 2014 the citizens of Bulgaria ...</td>\n",
       "      <td>E-000247-14</td>\n",
       "      <td>0.0</td>\n",
       "      <td>0.0</td>\n",
       "      <td>0.0</td>\n",
       "    </tr>\n",
       "    <tr>\n",
       "      <th>20</th>\n",
       "      <td>0    The number of social networks on the Inte...</td>\n",
       "      <td>E-005382-15</td>\n",
       "      <td>0.0</td>\n",
       "      <td>0.0</td>\n",
       "      <td>0.0</td>\n",
       "    </tr>\n",
       "    <tr>\n",
       "      <th>21</th>\n",
       "      <td>2    How would the High Representative charact...</td>\n",
       "      <td>E-009417-13</td>\n",
       "      <td>0.0</td>\n",
       "      <td>0.0</td>\n",
       "      <td>0.0</td>\n",
       "    </tr>\n",
       "    <tr>\n",
       "      <th>22</th>\n",
       "      <td>On 19 December 2011 a Congolese citizen Samba ...</td>\n",
       "      <td>E-004349-13</td>\n",
       "      <td>1.0</td>\n",
       "      <td>0.0</td>\n",
       "      <td>1.0</td>\n",
       "    </tr>\n",
       "    <tr>\n",
       "      <th>23</th>\n",
       "      <td>Since the 2009 coup dÃ©tat which toppled Manue...</td>\n",
       "      <td>E-010806-13</td>\n",
       "      <td>1.0</td>\n",
       "      <td>0.0</td>\n",
       "      <td>1.0</td>\n",
       "    </tr>\n",
       "    <tr>\n",
       "      <th>24</th>\n",
       "      <td>I understand that correspondence has been exch...</td>\n",
       "      <td>E-010948-13</td>\n",
       "      <td>0.0</td>\n",
       "      <td>0.0</td>\n",
       "      <td>0.0</td>\n",
       "    </tr>\n",
       "    <tr>\n",
       "      <th>25</th>\n",
       "      <td>On 6 June 2013 a whistleblower exposed an exte...</td>\n",
       "      <td>E-006782-13</td>\n",
       "      <td>1.0</td>\n",
       "      <td>0.0</td>\n",
       "      <td>0.0</td>\n",
       "    </tr>\n",
       "    <tr>\n",
       "      <th>26</th>\n",
       "      <td>According to the Amended Work Programme 2013 o...</td>\n",
       "      <td>E-012119-13</td>\n",
       "      <td>0.0</td>\n",
       "      <td>0.0</td>\n",
       "      <td>0.0</td>\n",
       "    </tr>\n",
       "    <tr>\n",
       "      <th>27</th>\n",
       "      <td>Recent media reports have clearly exposed the ...</td>\n",
       "      <td>E-005640-13</td>\n",
       "      <td>0.0</td>\n",
       "      <td>0.0</td>\n",
       "      <td>0.0</td>\n",
       "    </tr>\n",
       "    <tr>\n",
       "      <th>28</th>\n",
       "      <td>At the beginning of 2012 the operators of the ...</td>\n",
       "      <td>E-004662-13</td>\n",
       "      <td>0.0</td>\n",
       "      <td>0.0</td>\n",
       "      <td>0.0</td>\n",
       "    </tr>\n",
       "    <tr>\n",
       "      <th>29</th>\n",
       "      <td>When asked about the possibility that oil pric...</td>\n",
       "      <td>E-005857-13</td>\n",
       "      <td>1.0</td>\n",
       "      <td>0.0</td>\n",
       "      <td>1.0</td>\n",
       "    </tr>\n",
       "    <tr>\n",
       "      <th>...</th>\n",
       "      <td>...</td>\n",
       "      <td>...</td>\n",
       "      <td>...</td>\n",
       "      <td>...</td>\n",
       "      <td>...</td>\n",
       "    </tr>\n",
       "    <tr>\n",
       "      <th>2831</th>\n",
       "      <td>The European Economic and Social Committee not...</td>\n",
       "      <td>E-007005-15</td>\n",
       "      <td>0.0</td>\n",
       "      <td>0.0</td>\n",
       "      <td>0.0</td>\n",
       "    </tr>\n",
       "    <tr>\n",
       "      <th>2832</th>\n",
       "      <td>Social partners play an important role in intr...</td>\n",
       "      <td>E-002475-15</td>\n",
       "      <td>0.0</td>\n",
       "      <td>0.0</td>\n",
       "      <td>0.0</td>\n",
       "    </tr>\n",
       "    <tr>\n",
       "      <th>2833</th>\n",
       "      <td>On 29 June 2015 Jonathan Hill on behalf of the...</td>\n",
       "      <td>E-011027-15</td>\n",
       "      <td>1.0</td>\n",
       "      <td>1.0</td>\n",
       "      <td>1.0</td>\n",
       "    </tr>\n",
       "    <tr>\n",
       "      <th>2834</th>\n",
       "      <td>The recent Global Wage Report 2014/2015 by the...</td>\n",
       "      <td>E-010443-14</td>\n",
       "      <td>1.0</td>\n",
       "      <td>1.0</td>\n",
       "      <td>1.0</td>\n",
       "    </tr>\n",
       "    <tr>\n",
       "      <th>2835</th>\n",
       "      <td>Article 4 of Directive 2002/58/EC1 states that...</td>\n",
       "      <td>E-3221/06</td>\n",
       "      <td>0.0</td>\n",
       "      <td>0.0</td>\n",
       "      <td>1.0</td>\n",
       "    </tr>\n",
       "    <tr>\n",
       "      <th>2836</th>\n",
       "      <td>In the 2007-2013 period Lithuania will be part...</td>\n",
       "      <td>H-0035/08</td>\n",
       "      <td>0.0</td>\n",
       "      <td>0.0</td>\n",
       "      <td>0.0</td>\n",
       "    </tr>\n",
       "    <tr>\n",
       "      <th>2837</th>\n",
       "      <td>Over the last few days the  has been a witness...</td>\n",
       "      <td>H-0398/05</td>\n",
       "      <td>0.0</td>\n",
       "      <td>0.0</td>\n",
       "      <td>1.0</td>\n",
       "    </tr>\n",
       "    <tr>\n",
       "      <th>2838</th>\n",
       "      <td>1. Who is paying for the connection to electri...</td>\n",
       "      <td>E-2266/03</td>\n",
       "      <td>0.0</td>\n",
       "      <td>0.0</td>\n",
       "      <td>0.0</td>\n",
       "    </tr>\n",
       "    <tr>\n",
       "      <th>2839</th>\n",
       "      <td>In certain Member States there  whose internal...</td>\n",
       "      <td>H-0082/07</td>\n",
       "      <td>0.0</td>\n",
       "      <td>0.0</td>\n",
       "      <td>0.0</td>\n",
       "    </tr>\n",
       "    <tr>\n",
       "      <th>2840</th>\n",
       "      <td>According to the statistics published in Decem...</td>\n",
       "      <td>E-1203/09</td>\n",
       "      <td>0.0</td>\n",
       "      <td>0.0</td>\n",
       "      <td>0.0</td>\n",
       "    </tr>\n",
       "    <tr>\n",
       "      <th>2841</th>\n",
       "      <td>Intellectual property is a strategic asset whi...</td>\n",
       "      <td>E-5682/09</td>\n",
       "      <td>0.0</td>\n",
       "      <td>0.0</td>\n",
       "      <td>0.0</td>\n",
       "    </tr>\n",
       "    <tr>\n",
       "      <th>2842</th>\n",
       "      <td>In its answer to question E-3691/031 which ask...</td>\n",
       "      <td>E-1476/04</td>\n",
       "      <td>0.0</td>\n",
       "      <td>0.0</td>\n",
       "      <td>0.0</td>\n",
       "    </tr>\n",
       "    <tr>\n",
       "      <th>2843</th>\n",
       "      <td>I have been asked by a number of London-based ...</td>\n",
       "      <td>P-3595/03</td>\n",
       "      <td>0.0</td>\n",
       "      <td>0.0</td>\n",
       "      <td>0.0</td>\n",
       "    </tr>\n",
       "    <tr>\n",
       "      <th>2844</th>\n",
       "      <td>What is the current stage reached in negotiati...</td>\n",
       "      <td>H-0572/00</td>\n",
       "      <td>0.0</td>\n",
       "      <td>0.0</td>\n",
       "      <td>0.0</td>\n",
       "    </tr>\n",
       "    <tr>\n",
       "      <th>2845</th>\n",
       "      <td>On 1 August 2000 fuel oil originating from spi...</td>\n",
       "      <td>E-3063/00</td>\n",
       "      <td>0.0</td>\n",
       "      <td>0.0</td>\n",
       "      <td>0.0</td>\n",
       "    </tr>\n",
       "    <tr>\n",
       "      <th>2846</th>\n",
       "      <td>Can the Commission give the activity rate for ...</td>\n",
       "      <td>E-004210-17</td>\n",
       "      <td>0.0</td>\n",
       "      <td>0.0</td>\n",
       "      <td>0.0</td>\n",
       "    </tr>\n",
       "    <tr>\n",
       "      <th>2847</th>\n",
       "      <td>Analysis of ERDF ESF and EAGGF Guidance paymen...</td>\n",
       "      <td>E-0701/96</td>\n",
       "      <td>1.0</td>\n",
       "      <td>1.0</td>\n",
       "      <td>0.0</td>\n",
       "    </tr>\n",
       "    <tr>\n",
       "      <th>2848</th>\n",
       "      <td>The Presidency-in-Office has declared that the...</td>\n",
       "      <td>E-2677/98</td>\n",
       "      <td>0.0</td>\n",
       "      <td>0.0</td>\n",
       "      <td>0.0</td>\n",
       "    </tr>\n",
       "    <tr>\n",
       "      <th>2849</th>\n",
       "      <td>Will the Commission provide full details of a ...</td>\n",
       "      <td>E-1945/06</td>\n",
       "      <td>0.0</td>\n",
       "      <td>0.0</td>\n",
       "      <td>0.0</td>\n",
       "    </tr>\n",
       "    <tr>\n",
       "      <th>2850</th>\n",
       "      <td>DB AutoZug caters solely for passengers making...</td>\n",
       "      <td>E-002289/2012</td>\n",
       "      <td>0.0</td>\n",
       "      <td>0.0</td>\n",
       "      <td>0.0</td>\n",
       "    </tr>\n",
       "    <tr>\n",
       "      <th>2851</th>\n",
       "      <td>The Commissions Guidance on the implementation...</td>\n",
       "      <td>E-010500-12</td>\n",
       "      <td>0.0</td>\n",
       "      <td>0.0</td>\n",
       "      <td>0.0</td>\n",
       "    </tr>\n",
       "    <tr>\n",
       "      <th>2852</th>\n",
       "      <td>The Torre Valdaliga Nord power station is curr...</td>\n",
       "      <td>E-3396/09</td>\n",
       "      <td>0.0</td>\n",
       "      <td>0.0</td>\n",
       "      <td>0.0</td>\n",
       "    </tr>\n",
       "    <tr>\n",
       "      <th>2853</th>\n",
       "      <td>What steps has the Commission taken to raise t...</td>\n",
       "      <td>E-6081/08</td>\n",
       "      <td>0.0</td>\n",
       "      <td>0.0</td>\n",
       "      <td>0.0</td>\n",
       "    </tr>\n",
       "    <tr>\n",
       "      <th>2854</th>\n",
       "      <td>Following revelations about the President of t...</td>\n",
       "      <td>E-1919/05</td>\n",
       "      <td>0.0</td>\n",
       "      <td>0.0</td>\n",
       "      <td>0.0</td>\n",
       "    </tr>\n",
       "    <tr>\n",
       "      <th>2855</th>\n",
       "      <td>In the spirit of openness and transparency and...</td>\n",
       "      <td>E-3360/05</td>\n",
       "      <td>1.0</td>\n",
       "      <td>0.0</td>\n",
       "      <td>0.0</td>\n",
       "    </tr>\n",
       "    <tr>\n",
       "      <th>2856</th>\n",
       "      <td>On 11 October last year Commissioners Schreyer...</td>\n",
       "      <td>H-0507/00</td>\n",
       "      <td>0.0</td>\n",
       "      <td>0.0</td>\n",
       "      <td>0.0</td>\n",
       "    </tr>\n",
       "    <tr>\n",
       "      <th>2857</th>\n",
       "      <td>Is the Polish legislation on abortion in accor...</td>\n",
       "      <td>H-0196/01</td>\n",
       "      <td>0.0</td>\n",
       "      <td>0.0</td>\n",
       "      <td>0.0</td>\n",
       "    </tr>\n",
       "    <tr>\n",
       "      <th>2858</th>\n",
       "      <td>The Mont Blanc tunnel between Italy and France...</td>\n",
       "      <td>E-2555/00</td>\n",
       "      <td>0.0</td>\n",
       "      <td>0.0</td>\n",
       "      <td>0.0</td>\n",
       "    </tr>\n",
       "    <tr>\n",
       "      <th>2859</th>\n",
       "      <td>Fishing quotas for Lithuania are so low that  ...</td>\n",
       "      <td>H-1053/06</td>\n",
       "      <td>0.0</td>\n",
       "      <td>0.0</td>\n",
       "      <td>0.0</td>\n",
       "    </tr>\n",
       "    <tr>\n",
       "      <th>2860</th>\n",
       "      <td>A French winegrowers association has recently ...</td>\n",
       "      <td>E-0622/06</td>\n",
       "      <td>0.0</td>\n",
       "      <td>0.0</td>\n",
       "      <td>0.0</td>\n",
       "    </tr>\n",
       "  </tbody>\n",
       "</table>\n",
       "<p>2861 rows × 5 columns</p>\n",
       "</div>"
      ],
      "text/plain": [
       "                                          Question_Text    Question_ID  \\\n",
       "0     Further to the answer it gave to my Question E...    E-013527-13   \n",
       "1     In Italy as in many other Member States legal ...    E-001570-13   \n",
       "2     On 1 September 2013 Iraqi forces carried out a...    P-010965-13   \n",
       "3     In the Work Programme of the Agency for the Co...    E-011939-13   \n",
       "4     Identification marking on foods which are avai...    E-003034-13   \n",
       "5     According to estimates in Germany alone every ...    E-002177-13   \n",
       "6     In the context of the review of the EU policy ...    E-003105-13   \n",
       "7     Directive 2004/82/EC is intended to improve bo...    E-001109-13   \n",
       "8     Directive 2004/82/EC is intended to improve bo...    E-001108-13   \n",
       "9     On 27 February 2013 Mr Kallas on behalf of the...    E-005785-13   \n",
       "10    The Commissioner for Home Affairs has apparent...    P-009654-13   \n",
       "11    On 1 January 2014 Commission Regulation EC No ...    P-007405-13   \n",
       "12    The rights of every EU citizen include the fre...    E-001080-13   \n",
       "13    In divorce cases in Germany maintenance is dec...    E-003342-13   \n",
       "14    The directive on the application of patients r...    E-009518-13   \n",
       "15    It has emerged that the negotiations held betw...    E-003113-14   \n",
       "16    By virtue of circular 2013/151663 concerning i...    E-001705-14   \n",
       "17    The Transatlantic Trade and Investment Partner...    E-004788-14   \n",
       "18    The Pescara Marina one of the largest of its k...    E-008226-14   \n",
       "19    Since 1 January 2014 the citizens of Bulgaria ...    E-000247-14   \n",
       "20    0    The number of social networks on the Inte...    E-005382-15   \n",
       "21    2    How would the High Representative charact...    E-009417-13   \n",
       "22    On 19 December 2011 a Congolese citizen Samba ...    E-004349-13   \n",
       "23    Since the 2009 coup dÃ©tat which toppled Manue...    E-010806-13   \n",
       "24    I understand that correspondence has been exch...    E-010948-13   \n",
       "25    On 6 June 2013 a whistleblower exposed an exte...    E-006782-13   \n",
       "26    According to the Amended Work Programme 2013 o...    E-012119-13   \n",
       "27    Recent media reports have clearly exposed the ...    E-005640-13   \n",
       "28    At the beginning of 2012 the operators of the ...    E-004662-13   \n",
       "29    When asked about the possibility that oil pric...    E-005857-13   \n",
       "...                                                 ...            ...   \n",
       "2831  The European Economic and Social Committee not...    E-007005-15   \n",
       "2832  Social partners play an important role in intr...    E-002475-15   \n",
       "2833  On 29 June 2015 Jonathan Hill on behalf of the...    E-011027-15   \n",
       "2834  The recent Global Wage Report 2014/2015 by the...    E-010443-14   \n",
       "2835  Article 4 of Directive 2002/58/EC1 states that...      E-3221/06   \n",
       "2836  In the 2007-2013 period Lithuania will be part...      H-0035/08   \n",
       "2837  Over the last few days the  has been a witness...      H-0398/05   \n",
       "2838  1. Who is paying for the connection to electri...      E-2266/03   \n",
       "2839  In certain Member States there  whose internal...      H-0082/07   \n",
       "2840  According to the statistics published in Decem...      E-1203/09   \n",
       "2841  Intellectual property is a strategic asset whi...      E-5682/09   \n",
       "2842  In its answer to question E-3691/031 which ask...      E-1476/04   \n",
       "2843  I have been asked by a number of London-based ...      P-3595/03   \n",
       "2844  What is the current stage reached in negotiati...      H-0572/00   \n",
       "2845  On 1 August 2000 fuel oil originating from spi...      E-3063/00   \n",
       "2846  Can the Commission give the activity rate for ...    E-004210-17   \n",
       "2847  Analysis of ERDF ESF and EAGGF Guidance paymen...      E-0701/96   \n",
       "2848  The Presidency-in-Office has declared that the...      E-2677/98   \n",
       "2849  Will the Commission provide full details of a ...      E-1945/06   \n",
       "2850  DB AutoZug caters solely for passengers making...  E-002289/2012   \n",
       "2851  The Commissions Guidance on the implementation...    E-010500-12   \n",
       "2852  The Torre Valdaliga Nord power station is curr...      E-3396/09   \n",
       "2853  What steps has the Commission taken to raise t...      E-6081/08   \n",
       "2854  Following revelations about the President of t...      E-1919/05   \n",
       "2855  In the spirit of openness and transparency and...      E-3360/05   \n",
       "2856  On 11 October last year Commissioners Schreyer...      H-0507/00   \n",
       "2857  Is the Polish legislation on abortion in accor...      H-0196/01   \n",
       "2858  The Mont Blanc tunnel between Italy and France...      E-2555/00   \n",
       "2859  Fishing quotas for Lithuania are so low that  ...      H-1053/06   \n",
       "2860  A French winegrowers association has recently ...      E-0622/06   \n",
       "\n",
       "      Euroskepticism_Score  Nationalism_Score  Populism_Score  \n",
       "0                      0.0                0.0             0.0  \n",
       "1                      1.0                0.0             1.0  \n",
       "2                      0.0                0.0             0.0  \n",
       "3                      0.0                0.0             0.0  \n",
       "4                      0.0                0.0             0.0  \n",
       "5                      0.0                0.0             0.0  \n",
       "6                      1.0                0.0             0.0  \n",
       "7                      0.0                0.0             0.0  \n",
       "8                      0.0                0.0             0.0  \n",
       "9                      1.0                0.0             0.0  \n",
       "10                     0.0                0.0             0.0  \n",
       "11                     1.0                0.0             1.0  \n",
       "12                     0.0                0.0             0.0  \n",
       "13                     1.0                0.0             0.0  \n",
       "14                     0.0                0.0             0.0  \n",
       "15                     0.0                0.0             0.0  \n",
       "16                     0.0                0.0             0.0  \n",
       "17                     0.0                0.0             0.0  \n",
       "18                     1.0                1.0             0.0  \n",
       "19                     0.0                0.0             0.0  \n",
       "20                     0.0                0.0             0.0  \n",
       "21                     0.0                0.0             0.0  \n",
       "22                     1.0                0.0             1.0  \n",
       "23                     1.0                0.0             1.0  \n",
       "24                     0.0                0.0             0.0  \n",
       "25                     1.0                0.0             0.0  \n",
       "26                     0.0                0.0             0.0  \n",
       "27                     0.0                0.0             0.0  \n",
       "28                     0.0                0.0             0.0  \n",
       "29                     1.0                0.0             1.0  \n",
       "...                    ...                ...             ...  \n",
       "2831                   0.0                0.0             0.0  \n",
       "2832                   0.0                0.0             0.0  \n",
       "2833                   1.0                1.0             1.0  \n",
       "2834                   1.0                1.0             1.0  \n",
       "2835                   0.0                0.0             1.0  \n",
       "2836                   0.0                0.0             0.0  \n",
       "2837                   0.0                0.0             1.0  \n",
       "2838                   0.0                0.0             0.0  \n",
       "2839                   0.0                0.0             0.0  \n",
       "2840                   0.0                0.0             0.0  \n",
       "2841                   0.0                0.0             0.0  \n",
       "2842                   0.0                0.0             0.0  \n",
       "2843                   0.0                0.0             0.0  \n",
       "2844                   0.0                0.0             0.0  \n",
       "2845                   0.0                0.0             0.0  \n",
       "2846                   0.0                0.0             0.0  \n",
       "2847                   1.0                1.0             0.0  \n",
       "2848                   0.0                0.0             0.0  \n",
       "2849                   0.0                0.0             0.0  \n",
       "2850                   0.0                0.0             0.0  \n",
       "2851                   0.0                0.0             0.0  \n",
       "2852                   0.0                0.0             0.0  \n",
       "2853                   0.0                0.0             0.0  \n",
       "2854                   0.0                0.0             0.0  \n",
       "2855                   1.0                0.0             0.0  \n",
       "2856                   0.0                0.0             0.0  \n",
       "2857                   0.0                0.0             0.0  \n",
       "2858                   0.0                0.0             0.0  \n",
       "2859                   0.0                0.0             0.0  \n",
       "2860                   0.0                0.0             0.0  \n",
       "\n",
       "[2861 rows x 5 columns]"
      ]
     },
     "execution_count": 482,
     "metadata": {},
     "output_type": "execute_result"
    }
   ],
   "source": [
    "scores"
   ]
  },
  {
   "cell_type": "code",
   "execution_count": 446,
   "metadata": {},
   "outputs": [],
   "source": [
    "scores.to_csv(\"merged_scores.csv\")"
   ]
  },
  {
   "cell_type": "code",
   "execution_count": null,
   "metadata": {},
   "outputs": [],
   "source": [
    "print(scores['Euroskepticism_Score'].unique())\n",
    "print(scores['Nationalism_Score'].unique())\n",
    "print(scores['Populism_Score'].unique())"
   ]
  },
  {
   "cell_type": "markdown",
   "metadata": {},
   "source": [
    "# Ensemble Methods"
   ]
  },
  {
   "cell_type": "code",
   "execution_count": 492,
   "metadata": {},
   "outputs": [],
   "source": [
    "from sklearn.ensemble import GradientBoostingClassifier\n",
    "from sklearn.model_selection import train_test_split\n",
    "from sklearn.metrics import accuracy_score, confusion_matrix\n",
    "from sklearn.metrics import matthews_corrcoef"
   ]
  },
  {
   "cell_type": "code",
   "execution_count": 493,
   "metadata": {},
   "outputs": [],
   "source": [
    "X = vectorizer.fit_transform(scores['Question_Text'])"
   ]
  },
  {
   "cell_type": "markdown",
   "metadata": {},
   "source": [
    "##### Euroskepticism"
   ]
  },
  {
   "cell_type": "code",
   "execution_count": 485,
   "metadata": {},
   "outputs": [],
   "source": [
    "X_train, X_test, y_train, y_test = train_test_split(X, scores['Euroskepticism_Score'], test_size = .3)\n",
    "gbc = GradientBoostingClassifier()\n",
    "gbc.fit(X_train, y_train)\n",
    "y_pred = gbc.predict(X_test)"
   ]
  },
  {
   "cell_type": "code",
   "execution_count": 486,
   "metadata": {
    "scrolled": true
   },
   "outputs": [
    {
     "name": "stdout",
     "output_type": "stream",
     "text": [
      "accuracy: 0.8359 \n",
      "\n",
      "confusion matrix: \n",
      " [[713  10]\n",
      " [131   5]] \n",
      "\n",
      "matthews_corrcoef:  0.0639\n"
     ]
    }
   ],
   "source": [
    "print(\"accuracy: {:.4f} \\n\".format(accuracy_score(y_test, y_pred)))\n",
    "print(\"confusion matrix: \\n\",  confusion_matrix(y_test, y_pred), \"\\n\")\n",
    "print(\"matthews_corrcoef:  {:.4f}\".format(matthews_corrcoef(y_test, y_pred)))"
   ]
  },
  {
   "cell_type": "markdown",
   "metadata": {},
   "source": [
    "##### Nationalism"
   ]
  },
  {
   "cell_type": "code",
   "execution_count": 487,
   "metadata": {},
   "outputs": [],
   "source": [
    "X_train, X_test, y_train, y_test = train_test_split(X, scores['Nationalism_Score'], test_size = .3)\n",
    "gbc.fit(X_train, y_train)\n",
    "y_pred = gbc.predict(X_test)"
   ]
  },
  {
   "cell_type": "code",
   "execution_count": 488,
   "metadata": {},
   "outputs": [
    {
     "name": "stdout",
     "output_type": "stream",
     "text": [
      "accuracy: 0.9255 \n",
      "\n",
      "confusion matrix: \n",
      " [[793   6]\n",
      " [ 58   2]] \n",
      "\n",
      "matthews_corrcoef:  0.0685\n"
     ]
    }
   ],
   "source": [
    "print(\"accuracy: {:.4f} \\n\".format(accuracy_score(y_test, y_pred)))\n",
    "print(\"confusion matrix: \\n\",  confusion_matrix(y_test, y_pred), \"\\n\")\n",
    "print(\"matthews_corrcoef:  {:.4f}\".format(matthews_corrcoef(y_test, y_pred)))"
   ]
  },
  {
   "cell_type": "markdown",
   "metadata": {},
   "source": [
    "##### Populism"
   ]
  },
  {
   "cell_type": "code",
   "execution_count": 489,
   "metadata": {},
   "outputs": [],
   "source": [
    "X_train, X_test, y_train, y_test = train_test_split(X, scores['Populism_Score'], test_size = .3)\n",
    "gbc.fit(X_train, y_train)\n",
    "y_pred = gbc.predict(X_test)"
   ]
  },
  {
   "cell_type": "code",
   "execution_count": 490,
   "metadata": {},
   "outputs": [
    {
     "name": "stdout",
     "output_type": "stream",
     "text": [
      "accuracy: 0.9092 \n",
      "\n",
      "confusion matrix: \n",
      " [[780   2]\n",
      " [ 76   1]] \n",
      "\n",
      "matthews_corrcoef:  0.0505\n"
     ]
    }
   ],
   "source": [
    "print(\"accuracy: {:.4f} \\n\".format(accuracy_score(y_test, y_pred)))\n",
    "print(\"confusion matrix: \\n\",  confusion_matrix(y_test, y_pred), \"\\n\")\n",
    "print(\"matthews_corrcoef:  {:.4f}\".format(matthews_corrcoef(y_test, y_pred)))"
   ]
  },
  {
   "cell_type": "markdown",
   "metadata": {},
   "source": [
    "# 1D CNN for text classification with Keras"
   ]
  },
  {
   "cell_type": "code",
   "execution_count": 494,
   "metadata": {},
   "outputs": [],
   "source": [
    "from keras.preprocessing import sequence\n",
    "from keras.models import Sequential\n",
    "from keras.layers import Dense, Dropout, Activation\n",
    "from keras.layers import Embedding\n",
    "from keras.layers import Conv1D, GlobalMaxPooling1D\n",
    "from keras.datasets import imdb"
   ]
  },
  {
   "cell_type": "code",
   "execution_count": 495,
   "metadata": {},
   "outputs": [
    {
     "data": {
      "text/plain": [
       "<2861x20246 sparse matrix of type '<class 'numpy.float64'>'\n",
       "\twith 256022 stored elements in Compressed Sparse Row format>"
      ]
     },
     "execution_count": 495,
     "metadata": {},
     "output_type": "execute_result"
    }
   ],
   "source": [
    "X"
   ]
  },
  {
   "cell_type": "code",
   "execution_count": 496,
   "metadata": {},
   "outputs": [],
   "source": [
    "x_train, x_test, y_train, y_test = train_test_split(X, scores['Populism_Score'], test_size = .3)"
   ]
  },
  {
   "cell_type": "code",
   "execution_count": 497,
   "metadata": {},
   "outputs": [
    {
     "name": "stdout",
     "output_type": "stream",
     "text": [
      "Build model...\n"
     ]
    },
    {
     "name": "stderr",
     "output_type": "stream",
     "text": [
      "C:\\Users\\Poorvi\\AppData\\Roaming\\Python\\Python37\\site-packages\\tensorflow_core\\python\\framework\\indexed_slices.py:424: UserWarning: Converting sparse IndexedSlices to a dense Tensor of unknown shape. This may consume a large amount of memory.\n",
      "  \"Converting sparse IndexedSlices to a dense Tensor of unknown shape. \"\n"
     ]
    },
    {
     "name": "stdout",
     "output_type": "stream",
     "text": [
      "Train on 2002 samples, validate on 859 samples\n",
      "Epoch 1/6\n",
      "2002/2002 [==============================] - 514s 257ms/step - loss: 0.3355 - accuracy: 0.9021 - val_loss: 0.3478 - val_accuracy: 0.9034\n",
      "Epoch 2/6\n",
      "2002/2002 [==============================] - 605s 302ms/step - loss: 0.2991 - accuracy: 0.9131 - val_loss: 0.3400 - val_accuracy: 0.9034\n",
      "Epoch 3/6\n",
      "2002/2002 [==============================] - 701s 350ms/step - loss: 0.2947 - accuracy: 0.9131 - val_loss: 0.3381 - val_accuracy: 0.9034\n",
      "Epoch 4/6\n",
      "2002/2002 [==============================] - 741s 370ms/step - loss: 0.2995 - accuracy: 0.9131 - val_loss: 0.3417 - val_accuracy: 0.9034\n",
      "Epoch 5/6\n",
      "2002/2002 [==============================] - 590s 295ms/step - loss: 0.2986 - accuracy: 0.9131 - val_loss: 0.3584 - val_accuracy: 0.9034\n",
      "Epoch 6/6\n",
      "2002/2002 [==============================] - 527s 263ms/step - loss: 0.2987 - accuracy: 0.9131 - val_loss: 0.3554 - val_accuracy: 0.9034\n"
     ]
    },
    {
     "data": {
      "text/plain": [
       "<keras.callbacks.callbacks.History at 0xf501509128>"
      ]
     },
     "execution_count": 497,
     "metadata": {},
     "output_type": "execute_result"
    }
   ],
   "source": [
    "max_features = 5000 #limit vocab \n",
    "maxlen = 400 #word sequence length\n",
    "batch_size = 32\n",
    "embedding_dims = 50\n",
    "filters = 250\n",
    "kernel_size = 3 #filter dim\n",
    "hidden_dims = 250\n",
    "epochs = 6\n",
    "\n",
    "\n",
    "print('Build model...')\n",
    "model = Sequential()\n",
    "\n",
    "# we start off with an efficient embedding layer which maps\n",
    "# our vocab indices into embedding_dims dimensions\n",
    "model.add(Embedding(max_features,\n",
    "                    embedding_dims,\n",
    "                    input_length=X.shape[1]))\n",
    "model.add(Dropout(0.2))\n",
    "\n",
    "# word group filters of size filter_length:\n",
    "model.add(Conv1D(filters,\n",
    "                 kernel_size,\n",
    "                 padding='valid',\n",
    "                 activation='relu',\n",
    "                 strides=1))\n",
    "\n",
    "model.add(GlobalMaxPooling1D())\n",
    "\n",
    "model.add(Dense(hidden_dims))\n",
    "model.add(Dropout(0.2))  #fraction of neurons to drop\n",
    "model.add(Activation('relu'))\n",
    "\n",
    "# We project onto a single unit output layer, and squash it with a sigmoid:\n",
    "model.add(Dense(1))\n",
    "model.add(Activation('sigmoid'))\n",
    "\n",
    "model.compile(loss='binary_crossentropy',\n",
    "              optimizer='adam',\n",
    "              metrics=['accuracy'])\n",
    "model.fit(x_train, y_train,\n",
    "          batch_size=batch_size,\n",
    "          epochs=epochs,\n",
    "          validation_data=(x_test, y_test))"
   ]
  },
  {
   "cell_type": "code",
   "execution_count": null,
   "metadata": {},
   "outputs": [],
   "source": [
    "y_pred = model.predict(x_test)\n",
    "# x_train, x_test, y_train, y_test = train_test_split(X, scores['Populism_Score'], test_size = .3)\n",
    "y_test_np = y_test.to_numpy() "
   ]
  },
  {
   "cell_type": "code",
   "execution_count": 534,
   "metadata": {},
   "outputs": [],
   "source": [
    "def perf_measure(y_actual, y_pred):\n",
    "    TP = 0\n",
    "    FP = 0\n",
    "    TN = 0\n",
    "    FN = 0\n",
    "\n",
    "    for i in range(len(y_pred)): \n",
    "        if y_actual[i]==y_pred[i]==1:\n",
    "           TP += 1\n",
    "        if y_pred[i]==1 and y_actual[i]!=y_pred[i]:\n",
    "           FP += 1\n",
    "        if y_actual[i]==y_pred[i]==0:\n",
    "           TN += 1\n",
    "        if y_pred[i]==0 and y_actual[i]!=y_pred[i]:\n",
    "           FN += 1\n",
    "\n",
    "    A = np.array([[TN, FP], [FN, TP]])\n",
    "    return A"
   ]
  },
  {
   "cell_type": "code",
   "execution_count": 537,
   "metadata": {},
   "outputs": [],
   "source": [
    "#y_test = y_actual\n",
    "pop_cm = perf_measure(y_test_np, np.argmax(y_pred, axis=1))"
   ]
  },
  {
   "cell_type": "code",
   "execution_count": 536,
   "metadata": {},
   "outputs": [
    {
     "name": "stdout",
     "output_type": "stream",
     "text": [
      "confusion matrix: \n",
      " [[776   0]\n",
      " [ 83   0]] \n",
      "\n",
      "matthews_corrcoef:  0.0000\n"
     ]
    }
   ],
   "source": [
    "print(\"confusion matrix: \\n\",  pop_cm, \"\\n\")\n",
    "print(\"matthews_corrcoef:  {:.4f}\".format(matthews_corrcoef(y_test_np, np.argmax(y_pred, axis=1))))"
   ]
  },
  {
   "cell_type": "markdown",
   "metadata": {},
   "source": [
    "# LSTM with Keras "
   ]
  },
  {
   "cell_type": "code",
   "execution_count": null,
   "metadata": {},
   "outputs": [],
   "source": [
    "# set parameters:\n",
    "max_features = 5000\n",
    "maxlen = 400\n",
    "batch_size = 32\n",
    "embedding_dims = 50\n",
    "filters = 250\n",
    "kernel_size = 3\n",
    "hidden_dims = 250\n",
    "# epochs = 15"
   ]
  },
  {
   "cell_type": "code",
   "execution_count": null,
   "metadata": {},
   "outputs": [],
   "source": [
    "print('Build model...')\n",
    "model = Sequential()\n",
    "model.add(Embedding(max_features, 128))\n",
    "model.add(LSTM(128, dropout=0.2, recurrent_dropout=0.2))\n",
    "model.add(Dense(1, activation='sigmoid'))\n",
    "\n",
    "# try using different optimizers and different optimizer configs\n",
    "model.compile(loss='binary_crossentropy', #different loss function may be needed\n",
    "              optimizer='adam',\n",
    "              metrics=['accuracy'])\n",
    "\n",
    "print('Train...')\n",
    "model.fit(x_train, y_train,\n",
    "          batch_size=batch_size,\n",
    "          epochs=2,\n",
    "          validation_data=(x_test, y_test))\n",
    "score, acc = model.evaluate(x_test, y_test,\n",
    "                            batch_size=batch_size)\n",
    "print('Test score:', score)\n",
    "print('Test accuracy:', acc)"
   ]
  }
 ],
 "metadata": {
  "kernelspec": {
   "display_name": "Python 3",
   "language": "python",
   "name": "python3"
  },
  "language_info": {
   "codemirror_mode": {
    "name": "ipython",
    "version": 3
   },
   "file_extension": ".py",
   "mimetype": "text/x-python",
   "name": "python",
   "nbconvert_exporter": "python",
   "pygments_lexer": "ipython3",
   "version": "3.7.4"
  }
 },
 "nbformat": 4,
 "nbformat_minor": 2
}
